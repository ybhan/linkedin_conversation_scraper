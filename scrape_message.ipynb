{
 "cells": [
  {
   "cell_type": "markdown",
   "metadata": {},
   "source": [
    "This script will scrape the 20 most recent conversations from the messaging panel in LinkedIn web UI. The name and LinkedIn URL of the person and recent conversation history will be printed.\n",
    "\n",
    "By Yuanbo Han, 2020-09-09."
   ]
  },
  {
   "cell_type": "code",
   "execution_count": null,
   "metadata": {},
   "outputs": [],
   "source": [
    "from selenium import webdriver\n",
    "from selenium.common.exceptions import NoSuchElementException\n",
    "import time"
   ]
  },
  {
   "cell_type": "code",
   "execution_count": null,
   "metadata": {},
   "outputs": [],
   "source": [
    "# Change the driver path and the credentials as you need\n",
    "driver_path = '/Users/Yuanbo/Downloads/chromedriver'\n",
    "username_input = 'my_linkedin_email'\n",
    "password_input = 'my_linkedin_password'"
   ]
  },
  {
   "cell_type": "code",
   "execution_count": null,
   "metadata": {},
   "outputs": [],
   "source": [
    "# Log in\n",
    "browser = webdriver.Chrome(executable_path=driver_path)\n",
    "browser.get('https://www.linkedin.com/')\n",
    "username = browser.find_element_by_id('session_key')\n",
    "username.send_keys(username_input)\n",
    "password = browser.find_element_by_id('session_password')\n",
    "password.send_keys(password_input)\n",
    "log_in_button = browser.find_element_by_class_name('sign-in-form__submit-button')\n",
    "log_in_button.click()\n",
    "time.sleep(5)  # Give time for the page to load"
   ]
  },
  {
   "cell_type": "code",
   "execution_count": null,
   "metadata": {
    "scrolled": true
   },
   "outputs": [],
   "source": [
    "# Conversation message scraping\n",
    "msg_conversations = browser.find_elements_by_class_name('msg-overlay-list-bubble__convo-card-content')\n",
    "\n",
    "for i in range(min(len(msg_conversations), 20)):\n",
    "    msg_conversation = msg_conversations[i]\n",
    "    msg_conversation.click()\n",
    "    profile_name = browser.find_element_by_xpath('/html/body/div[7]/aside/div[2]/header/section[1]/div[1]/h4/a/span')\n",
    "    print(\"Name:{}\".format(profile_name.text))\n",
    "\n",
    "    linkedin_path = browser.find_element_by_xpath('/html/body/div[7]/aside/div[2]/header/section[1]/div[1]/h4/a')\n",
    "    print(\"LinkedIn URL: {}\".format(linkedin_path.get_attribute('href')))\n",
    "\n",
    "    print(\"-\" * 10)\n",
    "\n",
    "    messages = browser.find_elements_by_xpath('/html/body/div[7]/aside/div[2]/div[1]/div/div/ul/li')\n",
    "\n",
    "    for msg in messages:\n",
    "        try:\n",
    "            msg_date = msg.find_element_by_css_selector('li>time').text\n",
    "            print(msg_date)\n",
    "        except NoSuchElementException:\n",
    "            pass\n",
    "        try:\n",
    "            try:\n",
    "                msg_time = msg.find_element_by_css_selector('li>div>div time').text + \" \"\n",
    "            except NoSuchElementException:\n",
    "                msg_time = \"\"\n",
    "            try:\n",
    "                msg_from = msg.find_element_by_css_selector('li>div>div span').text\n",
    "            except NoSuchElementException:\n",
    "                msg_from = \"\"\n",
    "            if msg_time or msg_from:\n",
    "                print(\"{}{}:\".format(msg_time, msg_from))\n",
    "        except NoSuchElementException:\n",
    "            pass\n",
    "        try:\n",
    "            print(msg.find_element_by_css_selector('li>div>div>p').text)\n",
    "        except NoSuchElementException:\n",
    "            continue\n",
    "\n",
    "    print(\"-\" * 30)\n",
    "\n",
    "    close_conversation_button = browser.find_element_by_xpath('/html/body/div[7]/aside/div[2]/header/section[2]/button[2]')\n",
    "    close_conversation_button.click()\n"
   ]
  }
 ],
 "metadata": {
  "kernelspec": {
   "display_name": "Python 3",
   "language": "python",
   "name": "python3"
  },
  "language_info": {
   "codemirror_mode": {
    "name": "ipython",
    "version": 3
   },
   "file_extension": ".py",
   "mimetype": "text/x-python",
   "name": "python",
   "nbconvert_exporter": "python",
   "pygments_lexer": "ipython3",
   "version": "3.7.2"
  }
 },
 "nbformat": 4,
 "nbformat_minor": 2
}
